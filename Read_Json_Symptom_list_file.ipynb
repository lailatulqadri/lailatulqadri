{
  "nbformat": 4,
  "nbformat_minor": 0,
  "metadata": {
    "colab": {
      "provenance": [],
      "authorship_tag": "ABX9TyOWA8uZ+zoMo/hUWJ3lpfCm",
      "include_colab_link": true
    },
    "kernelspec": {
      "name": "python3",
      "display_name": "Python 3"
    },
    "language_info": {
      "name": "python"
    }
  },
  "cells": [
    {
      "cell_type": "markdown",
      "metadata": {
        "id": "view-in-github",
        "colab_type": "text"
      },
      "source": [
        "<a href=\"https://colab.research.google.com/github/lailatulqadri/lailatulqadri/blob/main/Read_Json_Symptom_list_file.ipynb\" target=\"_parent\"><img src=\"https://colab.research.google.com/assets/colab-badge.svg\" alt=\"Open In Colab\"/></a>"
      ]
    },
    {
      "cell_type": "code",
      "source": [
        "!pip install contractions"
      ],
      "metadata": {
        "colab": {
          "base_uri": "https://localhost:8080/"
        },
        "id": "TZmjJmy_5nsH",
        "outputId": "06474853-4190-4647-a649-dfbbe8ba336f"
      },
      "execution_count": 2,
      "outputs": [
        {
          "output_type": "stream",
          "name": "stdout",
          "text": [
            "Looking in indexes: https://pypi.org/simple, https://us-python.pkg.dev/colab-wheels/public/simple/\n",
            "Collecting contractions\n",
            "  Downloading contractions-0.1.73-py2.py3-none-any.whl (8.7 kB)\n",
            "Collecting textsearch>=0.0.21 (from contractions)\n",
            "  Downloading textsearch-0.0.24-py2.py3-none-any.whl (7.6 kB)\n",
            "Collecting anyascii (from textsearch>=0.0.21->contractions)\n",
            "  Downloading anyascii-0.3.2-py3-none-any.whl (289 kB)\n",
            "\u001b[2K     \u001b[90m━━━━━━━━━━━━━━━━━━━━━━━━━━━━━━━━━━━━━━━\u001b[0m \u001b[32m289.9/289.9 kB\u001b[0m \u001b[31m8.7 MB/s\u001b[0m eta \u001b[36m0:00:00\u001b[0m\n",
            "\u001b[?25hCollecting pyahocorasick (from textsearch>=0.0.21->contractions)\n",
            "  Downloading pyahocorasick-2.0.0-cp310-cp310-manylinux_2_5_x86_64.manylinux1_x86_64.manylinux_2_12_x86_64.manylinux2010_x86_64.whl (110 kB)\n",
            "\u001b[2K     \u001b[90m━━━━━━━━━━━━━━━━━━━━━━━━━━━━━━━━━━━━━━\u001b[0m \u001b[32m110.8/110.8 kB\u001b[0m \u001b[31m10.0 MB/s\u001b[0m eta \u001b[36m0:00:00\u001b[0m\n",
            "\u001b[?25hInstalling collected packages: pyahocorasick, anyascii, textsearch, contractions\n",
            "Successfully installed anyascii-0.3.2 contractions-0.1.73 pyahocorasick-2.0.0 textsearch-0.0.24\n"
          ]
        }
      ]
    },
    {
      "cell_type": "code",
      "execution_count": 4,
      "metadata": {
        "id": "yWf5k9FB48Tv"
      },
      "outputs": [],
      "source": [
        "# Python program to read\n",
        "# json file\n",
        "  \n",
        "  \n",
        "import json\n",
        "import contractions\n",
        "  \n",
        "# Opening JSON file\n",
        "f = open('depression_lexicon.json')\n",
        "  \n",
        "# returns JSON object as \n",
        "# a dictionary\n",
        "data = json.load(f)\n",
        "  \n",
        "# Iterating through the json\n",
        "# list\n",
        "signal_1 = []\n",
        "for i in data['signal_1']:\n",
        "    i = i.replace(\"_\", \" \")\n",
        "    i = contractions.fix(i)\n",
        "    #print(i)\n",
        "    signal_1.append(i)\n",
        "\n",
        "signal_2 = []\n",
        "for i in data['signal_2']:\n",
        "    i = i.replace(\"_\", \" \")\n",
        "    i = contractions.fix(i)\n",
        "    #print(i)\n",
        "    signal_2.append(i)\n",
        "\n",
        "signal_3 = []\n",
        "for i in data['signal_3']:\n",
        "    i = i.replace(\"_\", \" \")\n",
        "    i = contractions.fix(i)\n",
        "    #print(i)\n",
        "    signal_3.append(i)\n",
        "\n",
        "signal_4 = []\n",
        "for i in data['signal_4']:\n",
        "    i = i.replace(\"_\", \" \")\n",
        "    i = contractions.fix(i)\n",
        "    #print(i)\n",
        "    signal_4.append(i)\n",
        "\n",
        "signal_5 = []\n",
        "for i in data['signal_5']:\n",
        "    i = i.replace(\"_\", \" \")\n",
        "    i = contractions.fix(i)\n",
        "    #print(i)\n",
        "    signal_5.append(i)\n",
        "\n",
        "signal_6 = []\n",
        "for i in data['signal_6']:\n",
        "    i = i.replace(\"_\", \" \")\n",
        "    i = contractions.fix(i)\n",
        "    #print(i)\n",
        "    signal_6.append(i)\n",
        "\n",
        "signal_7 = []\n",
        "for i in data['signal_7']:\n",
        "    i = i.replace(\"_\", \" \")\n",
        "    i = contractions.fix(i)\n",
        "    #print(i)\n",
        "    signal_7.append(i)\n",
        "\n",
        "signal_8 = []\n",
        "for i in data['signal_1']:\n",
        "    i = i.replace(\"_\", \" \")\n",
        "    i = contractions.fix(i)\n",
        "    #print(i)\n",
        "    signal_8.append(i)\n",
        "\n",
        "signal_9 = []\n",
        "for i in data['signal_9']:\n",
        "    i = i.replace(\"_\", \" \")\n",
        "    i = contractions.fix(i)\n",
        "    #print(i)\n",
        "    signal_9.append(i)\n",
        "\n",
        "signal_10 = []\n",
        "for i in data['signal_10']:\n",
        "    i = i.replace(\"_\", \" \")\n",
        "    i = contractions.fix(i)\n",
        "    #print(i)\n",
        "    signal_10.append(i)\n",
        "\n",
        "#print(signal_1,\"\\n\", signal_2,\"\\n\", signal_3)\n",
        "\n",
        "# Closing file\n",
        "f.close()"
      ]
    },
    {
      "cell_type": "code",
      "source": [
        "inp = input('STATEMENT')"
      ],
      "metadata": {
        "colab": {
          "base_uri": "https://localhost:8080/"
        },
        "id": "NnyNsfEt7OUS",
        "outputId": "afbcb565-4b03-4847-af7e-e5a273a816fb"
      },
      "execution_count": 5,
      "outputs": [
        {
          "name": "stdout",
          "output_type": "stream",
          "text": [
            "STATEMENTi am feeling lonely and i wish to end my life\n"
          ]
        }
      ]
    },
    {
      "cell_type": "code",
      "source": [
        "print(inp)"
      ],
      "metadata": {
        "colab": {
          "base_uri": "https://localhost:8080/"
        },
        "id": "HsmDxwc27Z7-",
        "outputId": "ce790492-4f68-4472-b775-bacdee3bdd61"
      },
      "execution_count": 6,
      "outputs": [
        {
          "output_type": "stream",
          "name": "stdout",
          "text": [
            "i am feeling lonely and i wish to end my life\n"
          ]
        }
      ]
    },
    {
      "cell_type": "code",
      "source": [
        "# check if have simptom 1\n",
        "if any(inp in s for s in signal_1):\n",
        "  print(s)"
      ],
      "metadata": {
        "id": "YHzQ0dEH7d14"
      },
      "execution_count": 7,
      "outputs": []
    },
    {
      "cell_type": "code",
      "source": [
        "list_symptoms =[signal_1, signal_2, signal_3, signal_4, signal_5, signal_6, signal_7, signal_8, signal_9, signal_10] "
      ],
      "metadata": {
        "id": "gcMJvjVI-eWM"
      },
      "execution_count": 8,
      "outputs": []
    },
    {
      "cell_type": "code",
      "source": [
        "#check if depression signal 1 in input sentence\n",
        "for s_list in list_symptoms:\n",
        "  for s in s_list:\n",
        "      if s in inp:\n",
        "          print(s,' signal detected')\n",
        "          \n"
      ],
      "metadata": {
        "colab": {
          "base_uri": "https://localhost:8080/"
        },
        "id": "7xeSFpuC9pgd",
        "outputId": "3c9a9327-c55c-4ba5-a66d-681b66536faa"
      },
      "execution_count": 9,
      "outputs": [
        {
          "output_type": "stream",
          "name": "stdout",
          "text": [
            "feeling lonely  signal detected\n"
          ]
        }
      ]
    }
  ]
}