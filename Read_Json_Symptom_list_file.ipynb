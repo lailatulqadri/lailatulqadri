{
  "nbformat": 4,
  "nbformat_minor": 0,
  "metadata": {
    "colab": {
      "provenance": [],
      "authorship_tag": "ABX9TyOOpQ/3JbOaIX+OGxeGPqfv",
      "include_colab_link": true
    },
    "kernelspec": {
      "name": "python3",
      "display_name": "Python 3"
    },
    "language_info": {
      "name": "python"
    }
  },
  "cells": [
    {
      "cell_type": "markdown",
      "metadata": {
        "id": "view-in-github",
        "colab_type": "text"
      },
      "source": [
        "<a href=\"https://colab.research.google.com/github/lailatulqadri/lailatulqadri/blob/main/Read_Json_Symptom_list_file.ipynb\" target=\"_parent\"><img src=\"https://colab.research.google.com/assets/colab-badge.svg\" alt=\"Open In Colab\"/></a>"
      ]
    },
    {
      "cell_type": "code",
      "source": [
        "!pip install contractions"
      ],
      "metadata": {
        "colab": {
          "base_uri": "https://localhost:8080/"
        },
        "id": "TZmjJmy_5nsH",
        "outputId": "b6e5433b-b8b3-49bc-c116-1e64dfbf2793"
      },
      "execution_count": null,
      "outputs": [
        {
          "output_type": "stream",
          "name": "stdout",
          "text": [
            "Looking in indexes: https://pypi.org/simple, https://us-python.pkg.dev/colab-wheels/public/simple/\n",
            "Collecting contractions\n",
            "  Downloading contractions-0.1.73-py2.py3-none-any.whl (8.7 kB)\n",
            "Collecting textsearch>=0.0.21 (from contractions)\n",
            "  Downloading textsearch-0.0.24-py2.py3-none-any.whl (7.6 kB)\n",
            "Collecting anyascii (from textsearch>=0.0.21->contractions)\n",
            "  Downloading anyascii-0.3.2-py3-none-any.whl (289 kB)\n",
            "\u001b[2K     \u001b[90m━━━━━━━━━━━━━━━━━━━━━━━━━━━━━━━━━━━━━━━\u001b[0m \u001b[32m289.9/289.9 kB\u001b[0m \u001b[31m6.0 MB/s\u001b[0m eta \u001b[36m0:00:00\u001b[0m\n",
            "\u001b[?25hCollecting pyahocorasick (from textsearch>=0.0.21->contractions)\n",
            "  Downloading pyahocorasick-2.0.0-cp310-cp310-manylinux_2_5_x86_64.manylinux1_x86_64.manylinux_2_12_x86_64.manylinux2010_x86_64.whl (110 kB)\n",
            "\u001b[2K     \u001b[90m━━━━━━━━━━━━━━━━━━━━━━━━━━━━━━━━━━━━━━\u001b[0m \u001b[32m110.8/110.8 kB\u001b[0m \u001b[31m11.7 MB/s\u001b[0m eta \u001b[36m0:00:00\u001b[0m\n",
            "\u001b[?25hInstalling collected packages: pyahocorasick, anyascii, textsearch, contractions\n",
            "Successfully installed anyascii-0.3.2 contractions-0.1.73 pyahocorasick-2.0.0 textsearch-0.0.24\n"
          ]
        }
      ]
    },
    {
      "cell_type": "code",
      "execution_count": null,
      "metadata": {
        "colab": {
          "base_uri": "https://localhost:8080/"
        },
        "id": "yWf5k9FB48Tv",
        "outputId": "0ca66407-ae42-4064-9cea-537318406ede"
      },
      "outputs": [
        {
          "output_type": "stream",
          "name": "stdout",
          "text": [
            "['absence of pleasure', 'acedia', 'anhedonia', 'anhedonic', 'antipathy', 'apathetic', 'apathy', 'beyond caring', 'bored', 'boredom', 'boring', 'cannot be arsed', 'cannot be assed', 'cannot be bothered', 'cannot be fucked', 'cannot be fagged', 'cba', 'cebs', 'ceebs', 'ceeebs', 'could not care less', 'dampened', 'detachment', 'disinclination', 'disinterest', 'disinterested', 'dispirited', 'dissatisfaction', 'do not want this', 'do not want to do', 'dullness', 'eccedentesiast', 'faking smile', 'fed up', 'flatness', 'halfhearted', 'hatred', 'heartless', 'hiding sadness', 'ho-hum', 'i do not care', 'inability to experience pleasure', 'incuriosity', 'incuriosity', 'indifference', 'indifferent', 'indisposition', 'insensitive', 'jaded', 'jadedness', 'joyless', 'lack of concern', 'lack of desire', 'lack of emotion', 'lack of enthusiasm', 'lack of excitement', 'lack of interest', 'lack of joy', 'lack of motivation', 'lack of passion', 'lack of pleasure', 'lackluster', 'last thing i want to do', 'listless', 'listlessness', 'lost desire', 'lost enthusiasm', 'lost excitement', 'lost interest', 'lost joy', 'lost motivation', 'lost passion', 'lost pleasure', 'lukewarm', 'meh', 'monotony', 'moody', 'mundane', 'no desire', 'no enthusiasm', 'no excitement', 'no interest', 'no joy', 'no motivation', 'no passion', 'no pleasure', 'no purpose', 'not interested', 'not willing', 'numb', 'passionless', 'passiveness', 'spiritless', 'taedium vitae', 'tedious', 'tediousness', 'tedium', 'tiresome', 'unconcern', 'unconcerned', 'unfeeling', 'uninspriring', 'uninterested', 'uninteresting', 'uninvolved', 'unmotivated', 'unmoved', 'unpromising', 'unwillingness', 'used to enjoy', 'used to interest', 'used to like', 'used to love', 'world weary', 'zero desire', 'zero enthusiasm', 'zero excitement', 'zero interest', 'zero joy', 'zero motivation', 'zero passion', 'zero pleasure'] \n",
            " ['abject', 'affliction', 'agony', 'all torn up', 'anguish', 'atrabilious', 'bad day', 'be alone', 'be depressed', 'be worthless', 'being depressed', 'being hollow', 'being lonely', 'bleak', 'blothpick', 'blue funk', 'bluesy', 'breaking', 'breaking down', 'broken hearted', 'bummed', 'bummed out', 'cannot stop crying', 'cast down', 'cast down', 'cheerless', 'clouded', 'crappy day', 'crestfallen', 'cry and cry', 'cynical', 'day ruined', 'debbie downer', 'dejected', 'dejection', 'depressed', 'depression', 'desolate', 'desolation', 'despair', 'despondency', 'despondent', 'destroyed', 'disappointed', 'disconsolate', 'discouraged', 'discouraging', 'disenchanted', 'disheartened', 'disheartening', 'disillusioned', 'dismal', 'dismayed', 'distress', 'doldrums', 'doleful', 'dolor', 'dour', 'down and out', 'down in the dumps', 'down in the mouth', 'downbeat', 'downcast', 'downer', 'downhearted', 'dreadful', 'dreading', 'dready', 'drowning in tears', 'erknog', 'feel hopeless', 'feel so hollow inside', 'feeling blue', 'feeling blue', 'feeling dead', 'feeling down', 'feeling empty', 'feeling lonely', 'feeling low', 'feeling sad', 'feeling upset', 'feeling upset', 'forlorn', 'frustrated', 'futureless', 'gloom', 'gloomy', 'glum', 'grieving', 'grim', 'have the blues', 'having depression', 'heartache', 'heartbreak', 'heartsick', 'heavyhearted', 'helpless', 'hollow and alone', 'hopeless', 'hopelessness', 'i am lonely', 'i am sad', 'i am beyond broken', 'i am in pain', 'i am in the pits', 'i am not fine', 'inconsolable', 'insoluble', 'lamenting', 'let down', 'low spirits', 'low spirited', 'lugubrious', 'make me sad', 'melancholy', 'mirthless', 'miserable', 'misery', 'mopey', 'moping', 'mopish', 'morose', 'mournful', 'mourning', 'no one loves me', 'pine away', 'post traumatic stress disorder', 'posttraumatic stress disorder', 'pretending i am fine', 'pretending to be happy', 'pretending to smile', 'psychic trauma', 'ptsd', 'ripped apart', 'river of tears', 'ruined my day', 'sad over nothing', 'shit day', 'shot down', 'sob story', 'solemn', 'somber', 'sorrow', 'sorrowful', 'suffering', 'sulky', 'sullen', 'taken down', 'tearing me apart', 'thrown away', 'torment', 'torn up', 'unblissful', 'unhappy', 'weeping', 'woe', 'woebegone', 'woeful', 'worst time of my life', 'wretched'] \n",
            " ['active at night', 'all nighter', 'all nighter', 'awake', 'bad sleep', 'be up late', 'cannot fall back asleep', 'cannot get out of bed', 'cannot get up ', 'cannot sleep', 'cannot sleep at night', 'cannot sleep through the whole night', \"catch some z's\", 'crying to sleep', 'dayturnal', 'did not get enough sleep', 'doze off', 'drowse', 'drowsiness', 'drowsy', 'extended sleep', 'get some sleep', 'go back to bed', 'go to bed', 'go to sleep', 'groggy', 'hibernate', 'hit the hay', 'hit the sack', 'hypersomnia', 'i have not slept', 'inability to sleep', 'inromneya', 'inromnia', 'insomnia', 'insomniac', 'let me sleep', 'lie in', 'lie in bed', 'mid-sleep wakenings', 'narcolepsy', 'narcoleptic', 'need to sleep', 'night owl', 'nocturnal', 'not being able to get out of bed', 'not sleeping well', 'over sleeping', 'overslept', 'poor sleep', 'sack out', 'short term sleep', 'siesta', 'sleep deprivation', 'sleep deprived', 'sleep disorder', 'sleep in', 'sleep late', 'sleep loss', 'sleep paralysis', 'sleeping disorder', 'sleeping pill', 'sleeping too much', 'sleepless', 'sleeplessness', 'sleepy', 'slumber', 'stay up late', 'staying asleep', 'take a nap', 'trouble falling asleep', 'trying to fall back asleep', 'unable to sleep', 'want to sleep', 'yawn', 'zonk out ', 'zonked', 'zzz']\n"
          ]
        }
      ],
      "source": [
        "# Python program to read\n",
        "# json file\n",
        "  \n",
        "  \n",
        "import json\n",
        "import contractions\n",
        "  \n",
        "# Opening JSON file\n",
        "f = open('depression_lexicon.json')\n",
        "  \n",
        "# returns JSON object as \n",
        "# a dictionary\n",
        "data = json.load(f)\n",
        "  \n",
        "# Iterating through the json\n",
        "# list\n",
        "signal_1 = []\n",
        "for i in data['signal_1']:\n",
        "    i = i.replace(\"_\", \" \")\n",
        "    i = contractions.fix(i)\n",
        "    #print(i)\n",
        "    signal_1.append(i)\n",
        "\n",
        "signal_2 = []\n",
        "for i in data['signal_2']:\n",
        "    i = i.replace(\"_\", \" \")\n",
        "    i = contractions.fix(i)\n",
        "    #print(i)\n",
        "    signal_2.append(i)\n",
        "\n",
        "signal_3 = []\n",
        "for i in data['signal_3']:\n",
        "    i = i.replace(\"_\", \" \")\n",
        "    i = contractions.fix(i)\n",
        "    #print(i)\n",
        "    signal_3.append(i)\n",
        "\n",
        "signal_4 = []\n",
        "for i in data['signal_4']:\n",
        "    i = i.replace(\"_\", \" \")\n",
        "    i = contractions.fix(i)\n",
        "    #print(i)\n",
        "    signal_4.append(i)\n",
        "\n",
        "signal_5 = []\n",
        "for i in data['signal_5']:\n",
        "    i = i.replace(\"_\", \" \")\n",
        "    i = contractions.fix(i)\n",
        "    #print(i)\n",
        "    signal_5.append(i)\n",
        "\n",
        "signal_6 = []\n",
        "for i in data['signal_6']:\n",
        "    i = i.replace(\"_\", \" \")\n",
        "    i = contractions.fix(i)\n",
        "    #print(i)\n",
        "    signal_6.append(i)\n",
        "\n",
        "signal_7 = []\n",
        "for i in data['signal_7']:\n",
        "    i = i.replace(\"_\", \" \")\n",
        "    i = contractions.fix(i)\n",
        "    #print(i)\n",
        "    signal_7.append(i)\n",
        "\n",
        "signal_8 = []\n",
        "for i in data['signal_1']:\n",
        "    i = i.replace(\"_\", \" \")\n",
        "    i = contractions.fix(i)\n",
        "    #print(i)\n",
        "    signal_8.append(i)\n",
        "\n",
        "signal_9 = []\n",
        "for i in data['signal_9']:\n",
        "    i = i.replace(\"_\", \" \")\n",
        "    i = contractions.fix(i)\n",
        "    #print(i)\n",
        "    signal_9.append(i)\n",
        "\n",
        "signal_10 = []\n",
        "for i in data['signal_10']:\n",
        "    i = i.replace(\"_\", \" \")\n",
        "    i = contractions.fix(i)\n",
        "    #print(i)\n",
        "    signal_10.append(i)\n",
        "\n",
        "print(signal_1,\"\\n\", signal_2,\"\\n\", signal_3)\n",
        "\n",
        "# Closing file\n",
        "f.close()"
      ]
    },
    {
      "cell_type": "code",
      "source": [
        "inp = input('STATEMENT')"
      ],
      "metadata": {
        "colab": {
          "base_uri": "https://localhost:8080/"
        },
        "id": "NnyNsfEt7OUS",
        "outputId": "6725d0ed-32ca-4c2c-9f10-2d84a46538e6"
      },
      "execution_count": null,
      "outputs": [
        {
          "name": "stdout",
          "output_type": "stream",
          "text": [
            "STATEMENTi feel soo acedia and awake all nighter\n"
          ]
        }
      ]
    },
    {
      "cell_type": "code",
      "source": [
        "print(inp)"
      ],
      "metadata": {
        "colab": {
          "base_uri": "https://localhost:8080/"
        },
        "id": "HsmDxwc27Z7-",
        "outputId": "14692e7b-5278-470f-cdfa-d990d03321ff"
      },
      "execution_count": null,
      "outputs": [
        {
          "output_type": "stream",
          "name": "stdout",
          "text": [
            "i am feeling abit anhedonia and acedia\n"
          ]
        }
      ]
    },
    {
      "cell_type": "code",
      "source": [
        "# check if have simptom 1\n",
        "if any(inp in s for s in signal_1):\n",
        "  print(s)"
      ],
      "metadata": {
        "id": "YHzQ0dEH7d14"
      },
      "execution_count": null,
      "outputs": []
    },
    {
      "cell_type": "code",
      "source": [
        "list_symptoms =[signal_1, signal_2, signal_3, signal_4, signal_5, signal_6, signal_7, signal_8, signal_9, signal_10] "
      ],
      "metadata": {
        "id": "gcMJvjVI-eWM"
      },
      "execution_count": null,
      "outputs": []
    },
    {
      "cell_type": "code",
      "source": [
        "#check if depression signal 1 in input sentence\n",
        "for s_list in list_symptoms:\n",
        "  for s in s_list:\n",
        "      if s in inp:\n",
        "          print(s,' signal detected')\n",
        "          \n"
      ],
      "metadata": {
        "colab": {
          "base_uri": "https://localhost:8080/"
        },
        "id": "7xeSFpuC9pgd",
        "outputId": "e10aded9-6213-4797-f131-0a31bd045f7d"
      },
      "execution_count": null,
      "outputs": [
        {
          "output_type": "stream",
          "name": "stdout",
          "text": [
            "acedia  signal detected\n",
            "all nighter  signal detected\n",
            "all nighter  signal detected\n",
            "awake  signal detected\n",
            "ed  signal detected\n",
            "acedia  signal detected\n"
          ]
        }
      ]
    }
  ]
}